{
 "cells": [
  {
   "cell_type": "markdown",
   "metadata": {},
   "source": [
    "# Lab 3 - report, Michał Błaszczak [245047]"
   ]
  },
  {
   "cell_type": "markdown",
   "metadata": {},
   "source": [
    "# Task 1 (Grid search for simple exponential smoothing)"
   ]
  },
  {
   "cell_type": "code",
   "execution_count": 180,
   "metadata": {},
   "outputs": [],
   "source": [
    "import numpy as np\n",
    "import pandas as pd\n",
    "from statsmodels.tsa.api import SimpleExpSmoothing, Holt\n",
    "import matplotlib.pyplot as plt"
   ]
  },
  {
   "cell_type": "markdown",
   "metadata": {},
   "source": [
    "### import data"
   ]
  },
  {
   "cell_type": "code",
   "execution_count": 181,
   "metadata": {},
   "outputs": [
    {
     "data": {
      "text/html": [
       "<div>\n",
       "<style scoped>\n",
       "    .dataframe tbody tr th:only-of-type {\n",
       "        vertical-align: middle;\n",
       "    }\n",
       "\n",
       "    .dataframe tbody tr th {\n",
       "        vertical-align: top;\n",
       "    }\n",
       "\n",
       "    .dataframe thead th {\n",
       "        text-align: right;\n",
       "    }\n",
       "</style>\n",
       "<table border=\"1\" class=\"dataframe\">\n",
       "  <thead>\n",
       "    <tr style=\"text-align: right;\">\n",
       "      <th></th>\n",
       "      <th>Export</th>\n",
       "    </tr>\n",
       "  </thead>\n",
       "  <tbody>\n",
       "    <tr>\n",
       "      <th>1960-12-31</th>\n",
       "      <td>39.043173</td>\n",
       "    </tr>\n",
       "    <tr>\n",
       "      <th>1961-12-31</th>\n",
       "      <td>46.244557</td>\n",
       "    </tr>\n",
       "    <tr>\n",
       "      <th>1962-12-31</th>\n",
       "      <td>19.793873</td>\n",
       "    </tr>\n",
       "    <tr>\n",
       "      <th>1963-12-31</th>\n",
       "      <td>24.684682</td>\n",
       "    </tr>\n",
       "    <tr>\n",
       "      <th>1964-12-31</th>\n",
       "      <td>25.084059</td>\n",
       "    </tr>\n",
       "  </tbody>\n",
       "</table>\n",
       "</div>"
      ],
      "text/plain": [
       "               Export\n",
       "1960-12-31  39.043173\n",
       "1961-12-31  46.244557\n",
       "1962-12-31  19.793873\n",
       "1963-12-31  24.684682\n",
       "1964-12-31  25.084059"
      ]
     },
     "execution_count": 181,
     "metadata": {},
     "output_type": "execute_result"
    }
   ],
   "source": [
    "df = pd.read_pickle('AlgerianExport.pkl')\n",
    "df.head()"
   ]
  },
  {
   "cell_type": "code",
   "execution_count": 182,
   "metadata": {},
   "outputs": [
    {
     "data": {
      "text/plain": [
       "<matplotlib.legend.Legend at 0x7f99da3b9df0>"
      ]
     },
     "execution_count": 182,
     "metadata": {},
     "output_type": "execute_result"
    },
    {
     "data": {
      "image/png": "[encoded data removed]",
      "text/plain": [
       "<Figure size 432x288 with 1 Axes>"
      ]
     },
     "metadata": {
      "needs_background": "light"
     },
     "output_type": "display_data"
    }
   ],
   "source": [
    "df.plot().legend()"
   ]
  },
  {
   "cell_type": "code",
   "execution_count": 183,
   "metadata": {},
   "outputs": [
    {
     "data": {
      "text/plain": [
       "58"
      ]
     },
     "execution_count": 183,
     "metadata": {},
     "output_type": "execute_result"
    }
   ],
   "source": [
    "len(df)"
   ]
  },
  {
   "cell_type": "markdown",
   "metadata": {},
   "source": [
    "### define SES function"
   ]
  },
  {
   "cell_type": "code",
   "execution_count": 184,
   "metadata": {},
   "outputs": [],
   "source": [
    "def SES(df, alpha):\n",
    "    SES_array = np.array([39.043173, ])\n",
    "    for i in range(0, 57):\n",
    "        value = alpha * df.iloc[i][0] + (1 - alpha) * SES_array[i]\n",
    "        SES_array = np.append(SES_array, value)\n",
    "    \n",
    "    index = pd.date_range(start=\"1960\", end=\"2018\", freq=\"Y\")\n",
    "    SES_df = pd.DataFrame(SES_array, columns = ['Exports'])\n",
    "    SES_df = SES_df.set_index(index)\n",
    "    \n",
    "    return mean_squared_error(df, SES_df)"
   ]
  },
  {
   "cell_type": "markdown",
   "metadata": {},
   "source": [
    "### determine alpha with the smallest MSE"
   ]
  },
  {
   "cell_type": "code",
   "execution_count": 185,
   "metadata": {},
   "outputs": [
    {
     "name": "stdout",
     "output_type": "stream",
     "text": [
      "alpha: 0.75    MSE: 34.636\n",
      "alpha: 0.76    MSE: 34.587\n",
      "alpha: 0.77    MSE: 34.544\n",
      "alpha: 0.78    MSE: 34.506\n",
      "alpha: 0.79    MSE: 34.475\n",
      "alpha: 0.8    MSE: 34.45\n",
      "alpha: 0.81    MSE: 34.43\n",
      "alpha: 0.82    MSE: 34.416\n",
      "alpha: 0.83    MSE: 34.408\n",
      "alpha: 0.84    MSE: 34.406\n",
      "alpha: 0.85    MSE: 34.409\n",
      "alpha: 0.86    MSE: 34.417\n",
      "alpha: 0.87    MSE: 34.432\n",
      "alpha: 0.88    MSE: 34.451\n",
      "alpha: 0.89    MSE: 34.476\n",
      "alpha: 0.9    MSE: 34.507\n",
      "alpha: 0.91    MSE: 34.543\n",
      "alpha: 0.92    MSE: 34.584\n",
      "alpha: 0.93    MSE: 34.631\n",
      "alpha: 0.94    MSE: 34.684\n",
      "alpha: 0.95    MSE: 34.742\n",
      "alpha: 0.96    MSE: 34.805\n",
      "alpha: 0.97    MSE: 34.874\n",
      "alpha: 0.98    MSE: 34.949\n",
      "alpha: 0.99    MSE: 35.029\n"
     ]
    }
   ],
   "source": [
    "alphas = np.arange(0.75, 1.00, 0.01)\n",
    "for i in alphas:\n",
    "    alpha = i\n",
    "    MSE = SES(df=df, alpha=i)\n",
    "    print('alpha:', round(i, 2), '   MSE:', round(MSE, 3))"
   ]
  },
  {
   "cell_type": "code",
   "execution_count": 186,
   "metadata": {},
   "outputs": [],
   "source": [
    "#best result (smallest MSE) is for alpha = 0.84, where MSE: 34.406"
   ]
  },
  {
   "cell_type": "markdown",
   "metadata": {},
   "source": [
    "### fit and forecast data using library models"
   ]
  },
  {
   "cell_type": "code",
   "execution_count": 187,
   "metadata": {},
   "outputs": [
    {
     "name": "stdout",
     "output_type": "stream",
     "text": [
      "MSE: 34.401\n"
     ]
    }
   ],
   "source": [
    "fit = SimpleExpSmoothing(df, initialization_method=\"estimated\").fit()\n",
    "a = fit.model.params[\"smoothing_level\"]\n",
    "fcast = fit.forecast(3).rename(r\"$\\alpha=%s$\" % a)\n",
    "MSE = mean_squared_error(df, fit.fittedvalues)\n",
    "print('MSE:', round(MSE, 3))"
   ]
  },
  {
   "cell_type": "markdown",
   "metadata": {},
   "source": [
    "### plot results"
   ]
  },
  {
   "cell_type": "code",
   "execution_count": 188,
   "metadata": {},
   "outputs": [
    {
     "data": {
      "text/plain": [
       "<matplotlib.legend.Legend at 0x7f9a0935b460>"
      ]
     },
     "execution_count": 188,
     "metadata": {},
     "output_type": "execute_result"
    },
    {
     "data": {
      "image/png": "[encoded data removed]",
      "text/plain": [
       "<Figure size 864x576 with 1 Axes>"
      ]
     },
     "metadata": {
      "needs_background": "light"
     },
     "output_type": "display_data"
    }
   ],
   "source": [
    "plt.figure(figsize=(12,8))\n",
    "(line0, ) = plt.plot(df, marker=\"o\", color=\"black\")\n",
    "plt.plot(fit.fittedvalues, marker=\"o\", color=\"blue\")\n",
    "(line1, ) = plt.plot(fcast, marker=\"o\", color=\"blue\")\n",
    "\n",
    "plt.legend([line0, line1], ['data', fcast.name])"
   ]
  },
  {
   "cell_type": "markdown",
   "metadata": {},
   "source": [
    "# Task 2 (Time series forecasting workflow)"
   ]
  },
  {
   "cell_type": "markdown",
   "metadata": {},
   "source": [
    "### read dataframe saved earlier using df.to_pickle('AlgerianExport.pkl')"
   ]
  },
  {
   "cell_type": "code",
   "execution_count": 189,
   "metadata": {},
   "outputs": [],
   "source": [
    "df = pd.read_pickle('AlgerianExport.pkl')"
   ]
  },
  {
   "cell_type": "code",
   "execution_count": 190,
   "metadata": {},
   "outputs": [
    {
     "data": {
      "text/html": [
       "<div>\n",
       "<style scoped>\n",
       "    .dataframe tbody tr th:only-of-type {\n",
       "        vertical-align: middle;\n",
       "    }\n",
       "\n",
       "    .dataframe tbody tr th {\n",
       "        vertical-align: top;\n",
       "    }\n",
       "\n",
       "    .dataframe thead th {\n",
       "        text-align: right;\n",
       "    }\n",
       "</style>\n",
       "<table border=\"1\" class=\"dataframe\">\n",
       "  <thead>\n",
       "    <tr style=\"text-align: right;\">\n",
       "      <th></th>\n",
       "      <th>Export</th>\n",
       "    </tr>\n",
       "  </thead>\n",
       "  <tbody>\n",
       "    <tr>\n",
       "      <th>1960-12-31</th>\n",
       "      <td>39.043173</td>\n",
       "    </tr>\n",
       "    <tr>\n",
       "      <th>1961-12-31</th>\n",
       "      <td>46.244557</td>\n",
       "    </tr>\n",
       "    <tr>\n",
       "      <th>1962-12-31</th>\n",
       "      <td>19.793873</td>\n",
       "    </tr>\n",
       "    <tr>\n",
       "      <th>1963-12-31</th>\n",
       "      <td>24.684682</td>\n",
       "    </tr>\n",
       "    <tr>\n",
       "      <th>1964-12-31</th>\n",
       "      <td>25.084059</td>\n",
       "    </tr>\n",
       "  </tbody>\n",
       "</table>\n",
       "</div>"
      ],
      "text/plain": [
       "               Export\n",
       "1960-12-31  39.043173\n",
       "1961-12-31  46.244557\n",
       "1962-12-31  19.793873\n",
       "1963-12-31  24.684682\n",
       "1964-12-31  25.084059"
      ]
     },
     "execution_count": 190,
     "metadata": {},
     "output_type": "execute_result"
    }
   ],
   "source": [
    "df.head(5)"
   ]
  },
  {
   "cell_type": "code",
   "execution_count": 191,
   "metadata": {},
   "outputs": [
    {
     "data": {
      "text/plain": [
       "58"
      ]
     },
     "execution_count": 191,
     "metadata": {},
     "output_type": "execute_result"
    }
   ],
   "source": [
    "df.size"
   ]
  },
  {
   "cell_type": "markdown",
   "metadata": {},
   "source": [
    "### divide data into train and test"
   ]
  },
  {
   "cell_type": "code",
   "execution_count": 192,
   "metadata": {},
   "outputs": [
    {
     "data": {
      "text/plain": [
       "46"
      ]
     },
     "execution_count": 192,
     "metadata": {},
     "output_type": "execute_result"
    }
   ],
   "source": [
    "ncut=int(0.8*df.size) # 80% for training the rest is withheld for testing\n",
    "ncut"
   ]
  },
  {
   "cell_type": "code",
   "execution_count": 193,
   "metadata": {},
   "outputs": [],
   "source": [
    "train_data=df.iloc[:ncut]\n",
    "test_data=df.iloc[ncut:]"
   ]
  },
  {
   "cell_type": "code",
   "execution_count": 194,
   "metadata": {},
   "outputs": [
    {
     "data": {
      "text/plain": [
       "<matplotlib.legend.Legend at 0x7f99da7de760>"
      ]
     },
     "execution_count": 194,
     "metadata": {},
     "output_type": "execute_result"
    },
    {
     "data": {
      "image/png": "[encoded data removed]",
      "text/plain": [
       "<Figure size 432x288 with 1 Axes>"
      ]
     },
     "metadata": {
      "needs_background": "light"
     },
     "output_type": "display_data"
    }
   ],
   "source": [
    "ax=train_data.plot()\n",
    "test_data.plot(ax=ax)\n",
    "ax.legend(['Train','Test'])"
   ]
  },
  {
   "cell_type": "markdown",
   "metadata": {},
   "source": [
    "### fit the model"
   ]
  },
  {
   "cell_type": "code",
   "execution_count": 195,
   "metadata": {},
   "outputs": [],
   "source": [
    "fitted_model=SimpleExpSmoothing(train_data,initialization_method='estimated').fit()"
   ]
  },
  {
   "cell_type": "code",
   "execution_count": 196,
   "metadata": {},
   "outputs": [],
   "source": [
    "test_predictions=fitted_model.forecast(test_data.size).rename('SES forecast')"
   ]
  },
  {
   "cell_type": "markdown",
   "metadata": {},
   "source": [
    "### evaluate the model"
   ]
  },
  {
   "cell_type": "code",
   "execution_count": 197,
   "metadata": {},
   "outputs": [
    {
     "data": {
      "text/plain": [
       "<matplotlib.legend.Legend at 0x7f99e8cc1ee0>"
      ]
     },
     "execution_count": 197,
     "metadata": {},
     "output_type": "execute_result"
    },
    {
     "data": {
      "image/png": "[encoded data removed]",
      "text/plain": [
       "<Figure size 432x288 with 1 Axes>"
      ]
     },
     "metadata": {
      "needs_background": "light"
     },
     "output_type": "display_data"
    }
   ],
   "source": [
    "ax=train_data.plot()\n",
    "test_data.plot(ax=ax)\n",
    "test_predictions.plot(ax=ax)\n",
    "ax.legend(['Train','Test','Predict'])"
   ]
  },
  {
   "cell_type": "markdown",
   "metadata": {},
   "source": [
    "### evaluate metrics"
   ]
  },
  {
   "cell_type": "code",
   "execution_count": 198,
   "metadata": {},
   "outputs": [],
   "source": [
    "from sklearn.metrics import mean_squared_error\n",
    "from sklearn.metrics import  mean_absolute_error,mean_absolute_percentage_error"
   ]
  },
  {
   "cell_type": "markdown",
   "metadata": {},
   "source": [
    "##### MSE"
   ]
  },
  {
   "cell_type": "code",
   "execution_count": 199,
   "metadata": {},
   "outputs": [
    {
     "data": {
      "text/plain": [
       "192.04697370873177"
      ]
     },
     "execution_count": 199,
     "metadata": {},
     "output_type": "execute_result"
    }
   ],
   "source": [
    "mean_squared_error(test_data,test_predictions)"
   ]
  },
  {
   "cell_type": "code",
   "execution_count": 200,
   "metadata": {},
   "outputs": [
    {
     "data": {
      "text/plain": [
       "192.04697370873177"
      ]
     },
     "execution_count": 200,
     "metadata": {},
     "output_type": "execute_result"
    }
   ],
   "source": [
    "np.sum(np.square(np.subtract(test_data[\"Export\"].values,test_predictions.values)))/test_data.size"
   ]
  },
  {
   "cell_type": "markdown",
   "metadata": {},
   "source": [
    "##### MAE"
   ]
  },
  {
   "cell_type": "code",
   "execution_count": 201,
   "metadata": {},
   "outputs": [
    {
     "data": {
      "text/plain": [
       "11.439487998291211"
      ]
     },
     "execution_count": 201,
     "metadata": {},
     "output_type": "execute_result"
    }
   ],
   "source": [
    "mean_absolute_error(test_data,test_predictions)"
   ]
  },
  {
   "cell_type": "markdown",
   "metadata": {},
   "source": [
    "##### MAPE"
   ]
  },
  {
   "cell_type": "code",
   "execution_count": 202,
   "metadata": {},
   "outputs": [
    {
     "data": {
      "text/plain": [
       "0.4216657162083754"
      ]
     },
     "execution_count": 202,
     "metadata": {},
     "output_type": "execute_result"
    }
   ],
   "source": [
    "mean_absolute_percentage_error(test_data,test_predictions)"
   ]
  },
  {
   "cell_type": "code",
   "execution_count": 203,
   "metadata": {},
   "outputs": [
    {
     "data": {
      "text/plain": [
       "0.4216657162083754"
      ]
     },
     "execution_count": 203,
     "metadata": {},
     "output_type": "execute_result"
    }
   ],
   "source": [
    "np.sum(np.divide(np.abs(np.subtract(test_data[\"Export\"].values,test_predictions.values)),test_data[\"Export\"].values))/12"
   ]
  },
  {
   "cell_type": "markdown",
   "metadata": {},
   "source": [
    "### future forecasting"
   ]
  },
  {
   "cell_type": "markdown",
   "metadata": {},
   "source": [
    "##### let us assume that the model presented above turned out to be the best; we train the final model using all available data points"
   ]
  },
  {
   "cell_type": "code",
   "execution_count": 204,
   "metadata": {},
   "outputs": [],
   "source": [
    "# we use all available data\n",
    "final_model=SimpleExpSmoothing(df,initialization_method='estimated').fit()\n",
    "forecast=final_model.forecast(test_data.size).rename('forecast')"
   ]
  },
  {
   "cell_type": "code",
   "execution_count": 205,
   "metadata": {},
   "outputs": [
    {
     "data": {
      "text/plain": [
       "<matplotlib.legend.Legend at 0x7f9a09441460>"
      ]
     },
     "execution_count": 205,
     "metadata": {},
     "output_type": "execute_result"
    },
    {
     "data": {
      "image/png": "[encoded data removed]",
      "text/plain": [
       "<Figure size 432x288 with 1 Axes>"
      ]
     },
     "metadata": {
      "needs_background": "light"
     },
     "output_type": "display_data"
    }
   ],
   "source": [
    "ax=df.plot()\n",
    "forecast.plot(ax=ax)\n",
    "ax.legend(['Past values','Forecast'])"
   ]
  },
  {
   "cell_type": "markdown",
   "metadata": {},
   "source": [
    "# Task 3 (Holt’s method : double exponential smoothing)"
   ]
  },
  {
   "cell_type": "markdown",
   "metadata": {},
   "source": [
    "### read data"
   ]
  },
  {
   "cell_type": "code",
   "execution_count": 206,
   "metadata": {},
   "outputs": [
    {
     "data": {
      "text/html": [
       "<div>\n",
       "<style scoped>\n",
       "    .dataframe tbody tr th:only-of-type {\n",
       "        vertical-align: middle;\n",
       "    }\n",
       "\n",
       "    .dataframe tbody tr th {\n",
       "        vertical-align: top;\n",
       "    }\n",
       "\n",
       "    .dataframe thead th {\n",
       "        text-align: right;\n",
       "    }\n",
       "</style>\n",
       "<table border=\"1\" class=\"dataframe\">\n",
       "  <thead>\n",
       "    <tr style=\"text-align: right;\">\n",
       "      <th></th>\n",
       "      <th>Open</th>\n",
       "      <th>High</th>\n",
       "      <th>Low</th>\n",
       "      <th>Close</th>\n",
       "      <th>Adj Close</th>\n",
       "      <th>Volume</th>\n",
       "    </tr>\n",
       "    <tr>\n",
       "      <th>Date</th>\n",
       "      <th></th>\n",
       "      <th></th>\n",
       "      <th></th>\n",
       "      <th></th>\n",
       "      <th></th>\n",
       "      <th></th>\n",
       "    </tr>\n",
       "  </thead>\n",
       "  <tbody>\n",
       "    <tr>\n",
       "      <th>1962-02-01</th>\n",
       "      <td>6.978967</td>\n",
       "      <td>7.087317</td>\n",
       "      <td>6.978967</td>\n",
       "      <td>7.068196</td>\n",
       "      <td>1.577107</td>\n",
       "      <td>674670</td>\n",
       "    </tr>\n",
       "    <tr>\n",
       "      <th>1962-02-02</th>\n",
       "      <td>7.068196</td>\n",
       "      <td>7.112811</td>\n",
       "      <td>7.036329</td>\n",
       "      <td>7.112811</td>\n",
       "      <td>1.587062</td>\n",
       "      <td>533460</td>\n",
       "    </tr>\n",
       "    <tr>\n",
       "      <th>1962-02-05</th>\n",
       "      <td>7.112811</td>\n",
       "      <td>7.112811</td>\n",
       "      <td>6.985341</td>\n",
       "      <td>7.023582</td>\n",
       "      <td>1.567153</td>\n",
       "      <td>329490</td>\n",
       "    </tr>\n",
       "    <tr>\n",
       "      <th>1962-02-06</th>\n",
       "      <td>7.023582</td>\n",
       "      <td>7.036329</td>\n",
       "      <td>6.998088</td>\n",
       "      <td>7.029955</td>\n",
       "      <td>1.568788</td>\n",
       "      <td>274575</td>\n",
       "    </tr>\n",
       "    <tr>\n",
       "      <th>1962-02-07</th>\n",
       "      <td>7.036329</td>\n",
       "      <td>7.074570</td>\n",
       "      <td>7.036329</td>\n",
       "      <td>7.036329</td>\n",
       "      <td>1.570211</td>\n",
       "      <td>266730</td>\n",
       "    </tr>\n",
       "    <tr>\n",
       "      <th>...</th>\n",
       "      <td>...</td>\n",
       "      <td>...</td>\n",
       "      <td>...</td>\n",
       "      <td>...</td>\n",
       "      <td>...</td>\n",
       "      <td>...</td>\n",
       "    </tr>\n",
       "    <tr>\n",
       "      <th>1965-12-23</th>\n",
       "      <td>8.022626</td>\n",
       "      <td>8.022626</td>\n",
       "      <td>7.950924</td>\n",
       "      <td>7.950924</td>\n",
       "      <td>1.781072</td>\n",
       "      <td>301248</td>\n",
       "    </tr>\n",
       "    <tr>\n",
       "      <th>1965-12-27</th>\n",
       "      <td>7.966858</td>\n",
       "      <td>8.038560</td>\n",
       "      <td>7.966858</td>\n",
       "      <td>7.966858</td>\n",
       "      <td>1.784643</td>\n",
       "      <td>364008</td>\n",
       "    </tr>\n",
       "    <tr>\n",
       "      <th>1965-12-28</th>\n",
       "      <td>7.966858</td>\n",
       "      <td>8.002709</td>\n",
       "      <td>7.919057</td>\n",
       "      <td>8.002709</td>\n",
       "      <td>1.792673</td>\n",
       "      <td>382836</td>\n",
       "    </tr>\n",
       "    <tr>\n",
       "      <th>1965-12-29</th>\n",
       "      <td>7.992750</td>\n",
       "      <td>7.992750</td>\n",
       "      <td>7.934990</td>\n",
       "      <td>7.934990</td>\n",
       "      <td>1.777503</td>\n",
       "      <td>320076</td>\n",
       "    </tr>\n",
       "    <tr>\n",
       "      <th>1965-12-30</th>\n",
       "      <td>7.934990</td>\n",
       "      <td>7.966858</td>\n",
       "      <td>7.934990</td>\n",
       "      <td>7.966858</td>\n",
       "      <td>1.784643</td>\n",
       "      <td>257316</td>\n",
       "    </tr>\n",
       "  </tbody>\n",
       "</table>\n",
       "<p>985 rows × 6 columns</p>\n",
       "</div>"
      ],
      "text/plain": [
       "                Open      High       Low     Close  Adj Close  Volume\n",
       "Date                                                                 \n",
       "1962-02-01  6.978967  7.087317  6.978967  7.068196   1.577107  674670\n",
       "1962-02-02  7.068196  7.112811  7.036329  7.112811   1.587062  533460\n",
       "1962-02-05  7.112811  7.112811  6.985341  7.023582   1.567153  329490\n",
       "1962-02-06  7.023582  7.036329  6.998088  7.029955   1.568788  274575\n",
       "1962-02-07  7.036329  7.074570  7.036329  7.036329   1.570211  266730\n",
       "...              ...       ...       ...       ...        ...     ...\n",
       "1965-12-23  8.022626  8.022626  7.950924  7.950924   1.781072  301248\n",
       "1965-12-27  7.966858  8.038560  7.966858  7.966858   1.784643  364008\n",
       "1965-12-28  7.966858  8.002709  7.919057  8.002709   1.792673  382836\n",
       "1965-12-29  7.992750  7.992750  7.934990  7.934990   1.777503  320076\n",
       "1965-12-30  7.934990  7.966858  7.934990  7.966858   1.784643  257316\n",
       "\n",
       "[985 rows x 6 columns]"
      ]
     },
     "execution_count": 206,
     "metadata": {},
     "output_type": "execute_result"
    }
   ],
   "source": [
    "df = pd.read_csv('IBM.csv', index_col='Date', parse_dates=True)\n",
    "df"
   ]
  },
  {
   "cell_type": "markdown",
   "metadata": {},
   "source": [
    "### choose close prices only"
   ]
  },
  {
   "cell_type": "code",
   "execution_count": 207,
   "metadata": {},
   "outputs": [
    {
     "data": {
      "text/plain": [
       "Date\n",
       "1962-02-01    7.068196\n",
       "1962-02-02    7.112811\n",
       "1962-02-05    7.023582\n",
       "1962-02-06    7.029955\n",
       "1962-02-07    7.036329\n",
       "                ...   \n",
       "1965-12-23    7.950924\n",
       "1965-12-27    7.966858\n",
       "1965-12-28    8.002709\n",
       "1965-12-29    7.934990\n",
       "1965-12-30    7.966858\n",
       "Name: Close, Length: 985, dtype: float64"
      ]
     },
     "execution_count": 207,
     "metadata": {},
     "output_type": "execute_result"
    }
   ],
   "source": [
    "df = df['Close']\n",
    "df"
   ]
  },
  {
   "cell_type": "markdown",
   "metadata": {},
   "source": [
    "### plot close price data"
   ]
  },
  {
   "cell_type": "code",
   "execution_count": 208,
   "metadata": {},
   "outputs": [
    {
     "data": {
      "text/plain": [
       "<matplotlib.legend.Legend at 0x7f99fbe58220>"
      ]
     },
     "execution_count": 208,
     "metadata": {},
     "output_type": "execute_result"
    },
    {
     "data": {
      "image/png": "[encoded data removed]",
      "text/plain": [
       "<Figure size 432x288 with 1 Axes>"
      ]
     },
     "metadata": {
      "needs_background": "light"
     },
     "output_type": "display_data"
    }
   ],
   "source": [
    "df.plot().legend()"
   ]
  },
  {
   "cell_type": "markdown",
   "metadata": {},
   "source": [
    "### set the frequency of the time series to business days"
   ]
  },
  {
   "cell_type": "code",
   "execution_count": 209,
   "metadata": {},
   "outputs": [
    {
     "data": {
      "text/plain": [
       "DatetimeIndex(['1962-02-01', '1962-02-02', '1962-02-05', '1962-02-06',\n",
       "               '1962-02-07', '1962-02-08', '1962-02-09', '1962-02-12',\n",
       "               '1962-02-13', '1962-02-14',\n",
       "               ...\n",
       "               '1965-12-17', '1965-12-20', '1965-12-21', '1965-12-22',\n",
       "               '1965-12-23', '1965-12-24', '1965-12-27', '1965-12-28',\n",
       "               '1965-12-29', '1965-12-30'],\n",
       "              dtype='datetime64[ns]', name='Date', length=1021, freq='B')"
      ]
     },
     "execution_count": 209,
     "metadata": {},
     "output_type": "execute_result"
    }
   ],
   "source": [
    "df = df.asfreq('b')\n",
    "df.index"
   ]
  },
  {
   "cell_type": "markdown",
   "metadata": {},
   "source": [
    "### use forward fill to remove nans"
   ]
  },
  {
   "cell_type": "code",
   "execution_count": 210,
   "metadata": {},
   "outputs": [
    {
     "data": {
      "text/plain": [
       "Date\n",
       "1962-02-01    7.068196\n",
       "1962-02-02    7.112811\n",
       "1962-02-05    7.023582\n",
       "1962-02-06    7.029955\n",
       "1962-02-07    7.036329\n",
       "                ...   \n",
       "1965-12-24    7.950924\n",
       "1965-12-27    7.966858\n",
       "1965-12-28    8.002709\n",
       "1965-12-29    7.934990\n",
       "1965-12-30    7.966858\n",
       "Freq: B, Name: Close, Length: 1021, dtype: float64"
      ]
     },
     "execution_count": 210,
     "metadata": {},
     "output_type": "execute_result"
    }
   ],
   "source": [
    "df = df.ffill(axis=0)\n",
    "df"
   ]
  },
  {
   "cell_type": "markdown",
   "metadata": {},
   "source": [
    "### select part of the time series for which the long-term linear trend is apparent - at this point I will stick to Friday's [18 March] lecture notes"
   ]
  },
  {
   "cell_type": "code",
   "execution_count": 211,
   "metadata": {},
   "outputs": [
    {
     "data": {
      "text/plain": [
       "816"
      ]
     },
     "execution_count": 211,
     "metadata": {},
     "output_type": "execute_result"
    }
   ],
   "source": [
    "ncut=int(0.8*len(df))\n",
    "ncut"
   ]
  },
  {
   "cell_type": "code",
   "execution_count": 212,
   "metadata": {},
   "outputs": [],
   "source": [
    "train_data = df.iloc[:ncut]\n",
    "test_data = df.iloc[ncut:]"
   ]
  },
  {
   "cell_type": "code",
   "execution_count": 213,
   "metadata": {},
   "outputs": [
    {
     "data": {
      "text/plain": [
       "<matplotlib.legend.Legend at 0x7f99fc00ce80>"
      ]
     },
     "execution_count": 213,
     "metadata": {},
     "output_type": "execute_result"
    },
    {
     "data": {
      "image/png": "[encoded data removed]",
      "text/plain": [
       "<Figure size 432x288 with 1 Axes>"
      ]
     },
     "metadata": {
      "needs_background": "light"
     },
     "output_type": "display_data"
    }
   ],
   "source": [
    "ax = train_data.plot()\n",
    "test_data.plot(ax=ax)\n",
    "ax.legend(['Train', 'Test'])"
   ]
  },
  {
   "cell_type": "markdown",
   "metadata": {},
   "source": [
    "### fit and forecast Simple Exponential Smoothing model"
   ]
  },
  {
   "cell_type": "code",
   "execution_count": 214,
   "metadata": {},
   "outputs": [],
   "source": [
    "fitSES = SimpleExpSmoothing(train_data).fit()\n",
    "fcastSES = fitSES.forecast(len(test_data)).rename('SES predict')"
   ]
  },
  {
   "cell_type": "markdown",
   "metadata": {},
   "source": [
    "### fit and forecast Holt model"
   ]
  },
  {
   "cell_type": "code",
   "execution_count": 215,
   "metadata": {},
   "outputs": [],
   "source": [
    "fitHolt = Holt(train_data, exponential=False).fit()\n",
    "fcastHolt = fitHolt.forecast(len(test_data)).rename('Holt predict')"
   ]
  },
  {
   "cell_type": "markdown",
   "metadata": {},
   "source": [
    "### compare SES and Holt"
   ]
  },
  {
   "cell_type": "code",
   "execution_count": 216,
   "metadata": {},
   "outputs": [
    {
     "data": {
      "text/plain": [
       "<matplotlib.legend.Legend at 0x7f99fc03ddf0>"
      ]
     },
     "execution_count": 216,
     "metadata": {},
     "output_type": "execute_result"
    },
    {
     "data": {
      "image/png": "[encoded data removed]",
      "text/plain": [
       "<Figure size 432x288 with 1 Axes>"
      ]
     },
     "metadata": {
      "needs_background": "light"
     },
     "output_type": "display_data"
    }
   ],
   "source": [
    "ax = train_data.plot()\n",
    "test_data.plot(ax=ax)\n",
    "fcastSES.plot(ax=ax)\n",
    "fcastHolt.plot(ax=ax)\n",
    "ax.legend(['Train', 'Test', 'SES predict', 'Holt predict'])"
   ]
  },
  {
   "cell_type": "code",
   "execution_count": 217,
   "metadata": {},
   "outputs": [
    {
     "name": "stdout",
     "output_type": "stream",
     "text": [
      "Mean Absolute Percentage Errors:\n",
      "   5.7993546222452865 %\n",
      "   2.804980221395473 %\n"
     ]
    }
   ],
   "source": [
    "print(\"Mean Absolute Percentage Errors:\")\n",
    "SES_mape = mean_absolute_percentage_error(test_data, fcastSES)*100\n",
    "print(\"  \", SES_mape, \"%\")\n",
    "Holt_mape = mean_absolute_percentage_error(test_data, fcastHolt)*100\n",
    "print(\"  \", Holt_mape, \"%\")"
   ]
  }
 ],
 "metadata": {
  "interpreter": {
   "hash": "85b99bb87606a20235cfcb1366cab2b87f5961828d9f00e270912b35b356dc56"
  },
  "kernelspec": {
   "display_name": "Python 3.8.12 ('PySciEnv')",
   "language": "python",
   "name": "python3"
  },
  "language_info": {
   "codemirror_mode": {
    "name": "ipython",
    "version": 3
   },
   "file_extension": ".py",
   "mimetype": "text/x-python",
   "name": "python",
   "nbconvert_exporter": "python",
   "pygments_lexer": "ipython3",
   "version": "3.8.12"
  },
  "orig_nbformat": 4
 },
 "nbformat": 4,
 "nbformat_minor": 2
}
